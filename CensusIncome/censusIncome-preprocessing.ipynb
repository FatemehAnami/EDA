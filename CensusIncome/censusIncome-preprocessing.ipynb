{
 "cells": [
  {
   "cell_type": "markdown",
   "id": "86d867e6",
   "metadata": {},
   "source": [
    "# Preprocessing"
   ]
  },
  {
   "cell_type": "code",
   "execution_count": 1,
   "id": "bf411d32",
   "metadata": {},
   "outputs": [],
   "source": [
    "# Import librries\n",
    "import pandas as pd\n",
    "import numpy as np\n",
    "import matplotlib.pyplot as plt\n",
    "import seaborn as sns\n",
    "import category_encoders as ce\n",
    "import warnings\n",
    "warnings.filterwarnings('ignore')"
   ]
  },
  {
   "cell_type": "code",
   "execution_count": 2,
   "id": "0e51b2a8",
   "metadata": {},
   "outputs": [
    {
     "data": {
      "text/html": [
       "<div>\n",
       "<style scoped>\n",
       "    .dataframe tbody tr th:only-of-type {\n",
       "        vertical-align: middle;\n",
       "    }\n",
       "\n",
       "    .dataframe tbody tr th {\n",
       "        vertical-align: top;\n",
       "    }\n",
       "\n",
       "    .dataframe thead th {\n",
       "        text-align: right;\n",
       "    }\n",
       "</style>\n",
       "<table border=\"1\" class=\"dataframe\">\n",
       "  <thead>\n",
       "    <tr style=\"text-align: right;\">\n",
       "      <th></th>\n",
       "      <th>age</th>\n",
       "      <th>workclass</th>\n",
       "      <th>fnlwgt</th>\n",
       "      <th>education</th>\n",
       "      <th>education-num</th>\n",
       "      <th>marital-status</th>\n",
       "      <th>occupation</th>\n",
       "      <th>relationship</th>\n",
       "      <th>race</th>\n",
       "      <th>sex</th>\n",
       "      <th>capital-gain</th>\n",
       "      <th>capital-loss</th>\n",
       "      <th>hours-per-week</th>\n",
       "      <th>native-country</th>\n",
       "      <th>target</th>\n",
       "    </tr>\n",
       "  </thead>\n",
       "  <tbody>\n",
       "    <tr>\n",
       "      <th>0</th>\n",
       "      <td>39</td>\n",
       "      <td>State-gov</td>\n",
       "      <td>77516</td>\n",
       "      <td>Bachelors</td>\n",
       "      <td>13</td>\n",
       "      <td>Never-married</td>\n",
       "      <td>Adm-clerical</td>\n",
       "      <td>Not-in-family</td>\n",
       "      <td>White</td>\n",
       "      <td>Male</td>\n",
       "      <td>2174</td>\n",
       "      <td>0</td>\n",
       "      <td>40</td>\n",
       "      <td>United-States</td>\n",
       "      <td>&lt;=50K</td>\n",
       "    </tr>\n",
       "    <tr>\n",
       "      <th>1</th>\n",
       "      <td>50</td>\n",
       "      <td>Self-emp-not-inc</td>\n",
       "      <td>83311</td>\n",
       "      <td>Bachelors</td>\n",
       "      <td>13</td>\n",
       "      <td>Married-civ-spouse</td>\n",
       "      <td>Exec-managerial</td>\n",
       "      <td>Husband</td>\n",
       "      <td>White</td>\n",
       "      <td>Male</td>\n",
       "      <td>0</td>\n",
       "      <td>0</td>\n",
       "      <td>13</td>\n",
       "      <td>United-States</td>\n",
       "      <td>&lt;=50K</td>\n",
       "    </tr>\n",
       "    <tr>\n",
       "      <th>2</th>\n",
       "      <td>38</td>\n",
       "      <td>Private</td>\n",
       "      <td>215646</td>\n",
       "      <td>HS-grad</td>\n",
       "      <td>9</td>\n",
       "      <td>Divorced</td>\n",
       "      <td>Handlers-cleaners</td>\n",
       "      <td>Not-in-family</td>\n",
       "      <td>White</td>\n",
       "      <td>Male</td>\n",
       "      <td>0</td>\n",
       "      <td>0</td>\n",
       "      <td>40</td>\n",
       "      <td>United-States</td>\n",
       "      <td>&lt;=50K</td>\n",
       "    </tr>\n",
       "    <tr>\n",
       "      <th>3</th>\n",
       "      <td>53</td>\n",
       "      <td>Private</td>\n",
       "      <td>234721</td>\n",
       "      <td>11th</td>\n",
       "      <td>7</td>\n",
       "      <td>Married-civ-spouse</td>\n",
       "      <td>Handlers-cleaners</td>\n",
       "      <td>Husband</td>\n",
       "      <td>Black</td>\n",
       "      <td>Male</td>\n",
       "      <td>0</td>\n",
       "      <td>0</td>\n",
       "      <td>40</td>\n",
       "      <td>United-States</td>\n",
       "      <td>&lt;=50K</td>\n",
       "    </tr>\n",
       "    <tr>\n",
       "      <th>4</th>\n",
       "      <td>28</td>\n",
       "      <td>Private</td>\n",
       "      <td>338409</td>\n",
       "      <td>Bachelors</td>\n",
       "      <td>13</td>\n",
       "      <td>Married-civ-spouse</td>\n",
       "      <td>Prof-specialty</td>\n",
       "      <td>Wife</td>\n",
       "      <td>Black</td>\n",
       "      <td>Female</td>\n",
       "      <td>0</td>\n",
       "      <td>0</td>\n",
       "      <td>40</td>\n",
       "      <td>Cuba</td>\n",
       "      <td>&lt;=50K</td>\n",
       "    </tr>\n",
       "  </tbody>\n",
       "</table>\n",
       "</div>"
      ],
      "text/plain": [
       "   age         workclass  fnlwgt  education  education-num  \\\n",
       "0   39         State-gov   77516  Bachelors             13   \n",
       "1   50  Self-emp-not-inc   83311  Bachelors             13   \n",
       "2   38           Private  215646    HS-grad              9   \n",
       "3   53           Private  234721       11th              7   \n",
       "4   28           Private  338409  Bachelors             13   \n",
       "\n",
       "       marital-status         occupation   relationship   race     sex  \\\n",
       "0       Never-married       Adm-clerical  Not-in-family  White    Male   \n",
       "1  Married-civ-spouse    Exec-managerial        Husband  White    Male   \n",
       "2            Divorced  Handlers-cleaners  Not-in-family  White    Male   \n",
       "3  Married-civ-spouse  Handlers-cleaners        Husband  Black    Male   \n",
       "4  Married-civ-spouse     Prof-specialty           Wife  Black  Female   \n",
       "\n",
       "   capital-gain  capital-loss  hours-per-week native-country target  \n",
       "0          2174             0              40  United-States  <=50K  \n",
       "1             0             0              13  United-States  <=50K  \n",
       "2             0             0              40  United-States  <=50K  \n",
       "3             0             0              40  United-States  <=50K  \n",
       "4             0             0              40           Cuba  <=50K  "
      ]
     },
     "execution_count": 2,
     "metadata": {},
     "output_type": "execute_result"
    }
   ],
   "source": [
    "# Define the name of columns\n",
    "cols_name = ['age','workclass', 'fnlwgt','education','education-num', 'marital-status', 'occupation', 'relationship', 'race',\n",
    "        'sex', 'capital-gain' , 'capital-loss', 'hours-per-week', 'native-country', 'target']\n",
    "#Load train data\n",
    "train = pd.read_csv('adult.data', na_values='?',  index_col=False , skipinitialspace= True,\n",
    "                    header=None, names=cols_name)\n",
    "# print sample of train data\n",
    "train.head()"
   ]
  },
  {
   "cell_type": "code",
   "execution_count": 3,
   "id": "16c3a93a",
   "metadata": {},
   "outputs": [
    {
     "data": {
      "text/html": [
       "<div>\n",
       "<style scoped>\n",
       "    .dataframe tbody tr th:only-of-type {\n",
       "        vertical-align: middle;\n",
       "    }\n",
       "\n",
       "    .dataframe tbody tr th {\n",
       "        vertical-align: top;\n",
       "    }\n",
       "\n",
       "    .dataframe thead th {\n",
       "        text-align: right;\n",
       "    }\n",
       "</style>\n",
       "<table border=\"1\" class=\"dataframe\">\n",
       "  <thead>\n",
       "    <tr style=\"text-align: right;\">\n",
       "      <th></th>\n",
       "      <th>age</th>\n",
       "      <th>workclass</th>\n",
       "      <th>fnlwgt</th>\n",
       "      <th>education</th>\n",
       "      <th>education-num</th>\n",
       "      <th>marital-status</th>\n",
       "      <th>occupation</th>\n",
       "      <th>relationship</th>\n",
       "      <th>race</th>\n",
       "      <th>sex</th>\n",
       "      <th>capital-gain</th>\n",
       "      <th>capital-loss</th>\n",
       "      <th>hours-per-week</th>\n",
       "      <th>native-country</th>\n",
       "      <th>target</th>\n",
       "    </tr>\n",
       "  </thead>\n",
       "  <tbody>\n",
       "    <tr>\n",
       "      <th>0</th>\n",
       "      <td>25</td>\n",
       "      <td>Private</td>\n",
       "      <td>226802</td>\n",
       "      <td>11th</td>\n",
       "      <td>7</td>\n",
       "      <td>Never-married</td>\n",
       "      <td>Machine-op-inspct</td>\n",
       "      <td>Own-child</td>\n",
       "      <td>Black</td>\n",
       "      <td>Male</td>\n",
       "      <td>0</td>\n",
       "      <td>0</td>\n",
       "      <td>40</td>\n",
       "      <td>United-States</td>\n",
       "      <td>&lt;=50K.</td>\n",
       "    </tr>\n",
       "    <tr>\n",
       "      <th>1</th>\n",
       "      <td>38</td>\n",
       "      <td>Private</td>\n",
       "      <td>89814</td>\n",
       "      <td>HS-grad</td>\n",
       "      <td>9</td>\n",
       "      <td>Married-civ-spouse</td>\n",
       "      <td>Farming-fishing</td>\n",
       "      <td>Husband</td>\n",
       "      <td>White</td>\n",
       "      <td>Male</td>\n",
       "      <td>0</td>\n",
       "      <td>0</td>\n",
       "      <td>50</td>\n",
       "      <td>United-States</td>\n",
       "      <td>&lt;=50K.</td>\n",
       "    </tr>\n",
       "    <tr>\n",
       "      <th>2</th>\n",
       "      <td>28</td>\n",
       "      <td>Local-gov</td>\n",
       "      <td>336951</td>\n",
       "      <td>Assoc-acdm</td>\n",
       "      <td>12</td>\n",
       "      <td>Married-civ-spouse</td>\n",
       "      <td>Protective-serv</td>\n",
       "      <td>Husband</td>\n",
       "      <td>White</td>\n",
       "      <td>Male</td>\n",
       "      <td>0</td>\n",
       "      <td>0</td>\n",
       "      <td>40</td>\n",
       "      <td>United-States</td>\n",
       "      <td>&gt;50K.</td>\n",
       "    </tr>\n",
       "    <tr>\n",
       "      <th>3</th>\n",
       "      <td>44</td>\n",
       "      <td>Private</td>\n",
       "      <td>160323</td>\n",
       "      <td>Some-college</td>\n",
       "      <td>10</td>\n",
       "      <td>Married-civ-spouse</td>\n",
       "      <td>Machine-op-inspct</td>\n",
       "      <td>Husband</td>\n",
       "      <td>Black</td>\n",
       "      <td>Male</td>\n",
       "      <td>7688</td>\n",
       "      <td>0</td>\n",
       "      <td>40</td>\n",
       "      <td>United-States</td>\n",
       "      <td>&gt;50K.</td>\n",
       "    </tr>\n",
       "    <tr>\n",
       "      <th>4</th>\n",
       "      <td>18</td>\n",
       "      <td>NaN</td>\n",
       "      <td>103497</td>\n",
       "      <td>Some-college</td>\n",
       "      <td>10</td>\n",
       "      <td>Never-married</td>\n",
       "      <td>NaN</td>\n",
       "      <td>Own-child</td>\n",
       "      <td>White</td>\n",
       "      <td>Female</td>\n",
       "      <td>0</td>\n",
       "      <td>0</td>\n",
       "      <td>30</td>\n",
       "      <td>United-States</td>\n",
       "      <td>&lt;=50K.</td>\n",
       "    </tr>\n",
       "  </tbody>\n",
       "</table>\n",
       "</div>"
      ],
      "text/plain": [
       "   age  workclass  fnlwgt     education  education-num      marital-status  \\\n",
       "0   25    Private  226802          11th              7       Never-married   \n",
       "1   38    Private   89814       HS-grad              9  Married-civ-spouse   \n",
       "2   28  Local-gov  336951    Assoc-acdm             12  Married-civ-spouse   \n",
       "3   44    Private  160323  Some-college             10  Married-civ-spouse   \n",
       "4   18        NaN  103497  Some-college             10       Never-married   \n",
       "\n",
       "          occupation relationship   race     sex  capital-gain  capital-loss  \\\n",
       "0  Machine-op-inspct    Own-child  Black    Male             0             0   \n",
       "1    Farming-fishing      Husband  White    Male             0             0   \n",
       "2    Protective-serv      Husband  White    Male             0             0   \n",
       "3  Machine-op-inspct      Husband  Black    Male          7688             0   \n",
       "4                NaN    Own-child  White  Female             0             0   \n",
       "\n",
       "   hours-per-week native-country  target  \n",
       "0              40  United-States  <=50K.  \n",
       "1              50  United-States  <=50K.  \n",
       "2              40  United-States   >50K.  \n",
       "3              40  United-States   >50K.  \n",
       "4              30  United-States  <=50K.  "
      ]
     },
     "execution_count": 3,
     "metadata": {},
     "output_type": "execute_result"
    }
   ],
   "source": [
    "#Laod test data\n",
    "test = pd.read_csv('adult.test',  na_values='?', skipinitialspace= True, index_col=False , \n",
    "                   header=None, names=cols_name, skiprows=1)\n",
    "# print sample of test data\n",
    "test.head()"
   ]
  },
  {
   "cell_type": "markdown",
   "id": "0870952e",
   "metadata": {},
   "source": [
    "### Filling Missing values"
   ]
  },
  {
   "cell_type": "code",
   "execution_count": 4,
   "id": "e4bb2db0",
   "metadata": {},
   "outputs": [],
   "source": [
    "train_data = train.copy()\n",
    "test_data = test.copy()"
   ]
  },
  {
   "cell_type": "code",
   "execution_count": 5,
   "id": "36ff329f",
   "metadata": {},
   "outputs": [],
   "source": [
    "idx = train_data[train_data['workclass'] == 'Never-worked']['occupation'].index\n",
    "train_data.loc[idx,'occupation'] = 'No-occupation'\n",
    "\n",
    "idx = test_data[test_data['workclass'] == 'Never-worked']['occupation'].index\n",
    "test_data.loc[idx,'occupation'] = 'No-occupation'"
   ]
  },
  {
   "cell_type": "code",
   "execution_count": 6,
   "id": "a38b6c18",
   "metadata": {},
   "outputs": [
    {
     "data": {
      "text/plain": [
       "age                  0\n",
       "workclass         1836\n",
       "fnlwgt               0\n",
       "education            0\n",
       "education-num        0\n",
       "marital-status       0\n",
       "occupation        1836\n",
       "relationship         0\n",
       "race                 0\n",
       "sex                  0\n",
       "capital-gain         0\n",
       "capital-loss         0\n",
       "hours-per-week       0\n",
       "native-country     583\n",
       "target               0\n",
       "dtype: int64"
      ]
     },
     "execution_count": 6,
     "metadata": {},
     "output_type": "execute_result"
    }
   ],
   "source": [
    "train_data.isna().sum()"
   ]
  },
  {
   "cell_type": "code",
   "execution_count": 7,
   "id": "bbdd54c2",
   "metadata": {},
   "outputs": [],
   "source": [
    "# filling missing values with 'Missing' in this way new category will create \n",
    "train_data.fillna('Missing', inplace = True)\n",
    "test_data.fillna('Missing', inplace = True)"
   ]
  },
  {
   "cell_type": "markdown",
   "id": "3b73cb1d",
   "metadata": {},
   "source": [
    "### Handeling outliers"
   ]
  },
  {
   "cell_type": "code",
   "execution_count": 8,
   "id": "28753169",
   "metadata": {},
   "outputs": [
    {
     "name": "stdout",
     "output_type": "stream",
     "text": [
      "Numerical columns:    ['age', 'fnlwgt', 'education-num', 'capital-gain', 'capital-loss', 'hours-per-week']\n",
      "Categorical columns:  ['workclass', 'education', 'marital-status', 'occupation', 'relationship', 'race', 'sex', 'native-country', 'target']\n"
     ]
    }
   ],
   "source": [
    "num_cols = [x for x in train.columns if train[x].dtype != 'O']\n",
    "cat_cols = [x for x in train.columns if train[x].dtype == 'O']\n",
    "print('Numerical columns:   ', num_cols)\n",
    "print('Categorical columns: ',cat_cols)"
   ]
  },
  {
   "cell_type": "markdown",
   "id": "ed707365",
   "metadata": {},
   "source": [
    "**most of the value of capital-gain and capital-loss columns are zero and by outlier handling we will loss some important information then it will not perform on them, also the eduction-num is oordinal cateory data and it does not need to remove its outliers.**"
   ]
  },
  {
   "cell_type": "code",
   "execution_count": 9,
   "id": "6d36dc42",
   "metadata": {},
   "outputs": [],
   "source": [
    "def outliers_hadling(data, columns_name, q1_range= 0.25 , q3_range= 0.75):\n",
    "    for col in columns_name :\n",
    "        Q1 = data[col].quantile(q1_range)\n",
    "        Q3 = data[col].quantile(q3_range)\n",
    "        IQR = Q3 - Q1\n",
    "        upper_limit=Q3 + (1.5 * IQR)\n",
    "        lower_limit=Q1 - (1.5 * IQR)\n",
    "        data.loc[data[col]<lower_limit,col]=lower_limit\n",
    "        data.loc[data[col]>upper_limit,col]=upper_limit\n",
    "    return data"
   ]
  },
  {
   "cell_type": "code",
   "execution_count": 10,
   "id": "66d01474",
   "metadata": {},
   "outputs": [],
   "source": [
    "train_data = outliers_hadling(train_data, ['age'])\n",
    "train_data = outliers_hadling(train_data , ['hours-per-week'], 0.2 , 0.8)\n",
    "\n",
    "test_data = outliers_hadling(test_data, ['age'])\n",
    "test_data = outliers_hadling(test_data , ['hours-per-week'], 0.2 , 0.8)"
   ]
  },
  {
   "cell_type": "code",
   "execution_count": 11,
   "id": "787d4577",
   "metadata": {},
   "outputs": [
    {
     "data": {
      "text/plain": [
       "Text(0.5, 1.0, 'Distribution of Train data')"
      ]
     },
     "execution_count": 11,
     "metadata": {},
     "output_type": "execute_result"
    },
    {
     "data": {
      "image/png": "[encoded data removed]",
      "text/plain": [
       "<Figure size 640x480 with 1 Axes>"
      ]
     },
     "metadata": {},
     "output_type": "display_data"
    }
   ],
   "source": [
    "sns.kdeplot(data=train_data, x = 'age' , hue='target')\n",
    "plt.title('Distribution of Train data')"
   ]
  },
  {
   "cell_type": "code",
   "execution_count": 12,
   "id": "8b973fe4",
   "metadata": {},
   "outputs": [
    {
     "data": {
      "text/plain": [
       "Text(0.5, 1.0, 'Distribution of Test data')"
      ]
     },
     "execution_count": 12,
     "metadata": {},
     "output_type": "execute_result"
    },
    {
     "data": {
      "image/png": "[encoded data removed]",
      "text/plain": [
       "<Figure size 640x480 with 1 Axes>"
      ]
     },
     "metadata": {},
     "output_type": "display_data"
    }
   ],
   "source": [
    "sns.kdeplot(data=test_data, x = 'age' , hue='target')\n",
    "plt.title('Distribution of Test data')"
   ]
  },
  {
   "cell_type": "code",
   "execution_count": 13,
   "id": "29a3a0f9",
   "metadata": {},
   "outputs": [
    {
     "data": {
      "text/plain": [
       "Text(0.5, 1.0, 'Distribution of Train data')"
      ]
     },
     "execution_count": 13,
     "metadata": {},
     "output_type": "execute_result"
    },
    {
     "data": {
      "image/png": "[encoded data removed]",
      "text/plain": [
       "<Figure size 640x480 with 1 Axes>"
      ]
     },
     "metadata": {},
     "output_type": "display_data"
    }
   ],
   "source": [
    "sns.kdeplot(data=train_data, x = 'hours-per-week' , hue='target')\n",
    "plt.title('Distribution of Train data')"
   ]
  },
  {
   "cell_type": "code",
   "execution_count": 14,
   "id": "9b67862b",
   "metadata": {},
   "outputs": [
    {
     "data": {
      "text/plain": [
       "Text(0.5, 1.0, 'Distribution of Test data')"
      ]
     },
     "execution_count": 14,
     "metadata": {},
     "output_type": "execute_result"
    },
    {
     "data": {
      "image/png": "[encoded data removed]",
      "text/plain": [
       "<Figure size 640x480 with 1 Axes>"
      ]
     },
     "metadata": {},
     "output_type": "display_data"
    }
   ],
   "source": [
    "sns.kdeplot(data=test_data, x = 'hours-per-week' , hue='target')\n",
    "plt.title('Distribution of Test data')"
   ]
  },
  {
   "cell_type": "markdown",
   "id": "9eb3ec45",
   "metadata": {},
   "source": [
    "**Education nd education-num are same then we will drop education, native-country will drop because 89% of people are fron US then is will impact our predicion also fnlwgt will drop because it is final weights to keep all similar demographic in same wights which her is not useful**    "
   ]
  },
  {
   "cell_type": "code",
   "execution_count": 15,
   "id": "1d45e3e8",
   "metadata": {},
   "outputs": [],
   "source": [
    "train_data.drop(['education', 'fnlwgt', 'native-country'], axis = 1 , inplace = True)\n",
    "test_data.drop(['education', 'fnlwgt', 'native-country'], axis = 1 , inplace = True)"
   ]
  },
  {
   "cell_type": "code",
   "execution_count": 16,
   "id": "9192a77c",
   "metadata": {},
   "outputs": [],
   "source": [
    "scale_num_cols =  ['age', 'education-num', 'capital-gain', 'capital-loss', 'hours-per-week']"
   ]
  },
  {
   "cell_type": "markdown",
   "id": "1433ce8e",
   "metadata": {},
   "source": [
    "### Scale numerical data"
   ]
  },
  {
   "cell_type": "code",
   "execution_count": 17,
   "id": "230cfcd1",
   "metadata": {},
   "outputs": [],
   "source": [
    "from sklearn.preprocessing import MinMaxScaler\n",
    "scaler = MinMaxScaler()\n",
    "train_data[scale_num_cols]= scaler.fit_transform(train_data[scale_num_cols])\n",
    "test_data[scale_num_cols]= scaler.transform(test_data[scale_num_cols])"
   ]
  },
  {
   "cell_type": "markdown",
   "id": "14a51cc3",
   "metadata": {},
   "source": [
    "### Convert categorical data to numeric"
   ]
  },
  {
   "cell_type": "code",
   "execution_count": 18,
   "id": "e8ff72bc",
   "metadata": {},
   "outputs": [],
   "source": [
    "# one hot encoding for columns with 2 categories\n",
    "train_data['target'] = pd.get_dummies(train_data['target'], drop_first =True)\n",
    "train_data['sex'] = pd.get_dummies(train_data['sex'], drop_first=True)\n",
    "\n",
    "test_data['target'] = pd.get_dummies(test_data['target'], drop_first =True)\n",
    "test_data['sex'] = pd.get_dummies(test_data['sex'], drop_first=True)"
   ]
  },
  {
   "cell_type": "code",
   "execution_count": 19,
   "id": "077ec897",
   "metadata": {},
   "outputs": [],
   "source": [
    "encod_cat_cols = ['workclass', 'marital-status', 'occupation', 'relationship', 'race']"
   ]
  },
  {
   "cell_type": "code",
   "execution_count": 20,
   "id": "f03daff9",
   "metadata": {},
   "outputs": [],
   "source": [
    "#Use binary encoding for cells with more than 2 categooires then number of created feature will be less\n",
    "encoder = ce.BinaryEncoder(cols= encod_cat_cols, drop_invariant=True)\n",
    "train_data = encoder.fit_transform(train_data)\n",
    "test_data = encoder.transform(test_data)"
   ]
  },
  {
   "cell_type": "code",
   "execution_count": 21,
   "id": "8ae2bab2",
   "metadata": {},
   "outputs": [
    {
     "name": "stdout",
     "output_type": "stream",
     "text": [
      "<class 'pandas.core.frame.DataFrame'>\n",
      "RangeIndex: 32561 entries, 0 to 32560\n",
      "Data columns (total 25 columns):\n",
      " #   Column            Non-Null Count  Dtype  \n",
      "---  ------            --------------  -----  \n",
      " 0   workclass_1       32561 non-null  int64  \n",
      " 1   workclass_2       32561 non-null  int64  \n",
      " 2   workclass_3       32561 non-null  int64  \n",
      " 3   workclass_4       32561 non-null  int64  \n",
      " 4   marital-status_1  32561 non-null  int64  \n",
      " 5   marital-status_2  32561 non-null  int64  \n",
      " 6   marital-status_3  32561 non-null  int64  \n",
      " 7   occupation_0      32561 non-null  int64  \n",
      " 8   occupation_1      32561 non-null  int64  \n",
      " 9   occupation_2      32561 non-null  int64  \n",
      " 10  occupation_3      32561 non-null  int64  \n",
      " 11  occupation_4      32561 non-null  int64  \n",
      " 12  relationship_1    32561 non-null  int64  \n",
      " 13  relationship_2    32561 non-null  int64  \n",
      " 14  relationship_3    32561 non-null  int64  \n",
      " 15  race_1            32561 non-null  int64  \n",
      " 16  race_2            32561 non-null  int64  \n",
      " 17  race_3            32561 non-null  int64  \n",
      " 18  age               32561 non-null  float64\n",
      " 19  education-num     32561 non-null  float64\n",
      " 20  sex               32561 non-null  uint8  \n",
      " 21  capital-gain      32561 non-null  float64\n",
      " 22  capital-loss      32561 non-null  float64\n",
      " 23  hours-per-week    32561 non-null  float64\n",
      " 24  target            32561 non-null  uint8  \n",
      "dtypes: float64(5), int64(18), uint8(2)\n",
      "memory usage: 5.8 MB\n"
     ]
    }
   ],
   "source": [
    "train_data.info()"
   ]
  },
  {
   "cell_type": "code",
   "execution_count": 22,
   "id": "813e40b4",
   "metadata": {},
   "outputs": [
    {
     "name": "stdout",
     "output_type": "stream",
     "text": [
      "<class 'pandas.core.frame.DataFrame'>\n",
      "RangeIndex: 16281 entries, 0 to 16280\n",
      "Data columns (total 25 columns):\n",
      " #   Column            Non-Null Count  Dtype  \n",
      "---  ------            --------------  -----  \n",
      " 0   workclass_1       16281 non-null  int64  \n",
      " 1   workclass_2       16281 non-null  int64  \n",
      " 2   workclass_3       16281 non-null  int64  \n",
      " 3   workclass_4       16281 non-null  int64  \n",
      " 4   marital-status_1  16281 non-null  int64  \n",
      " 5   marital-status_2  16281 non-null  int64  \n",
      " 6   marital-status_3  16281 non-null  int64  \n",
      " 7   occupation_0      16281 non-null  int64  \n",
      " 8   occupation_1      16281 non-null  int64  \n",
      " 9   occupation_2      16281 non-null  int64  \n",
      " 10  occupation_3      16281 non-null  int64  \n",
      " 11  occupation_4      16281 non-null  int64  \n",
      " 12  relationship_1    16281 non-null  int64  \n",
      " 13  relationship_2    16281 non-null  int64  \n",
      " 14  relationship_3    16281 non-null  int64  \n",
      " 15  race_1            16281 non-null  int64  \n",
      " 16  race_2            16281 non-null  int64  \n",
      " 17  race_3            16281 non-null  int64  \n",
      " 18  age               16281 non-null  float64\n",
      " 19  education-num     16281 non-null  float64\n",
      " 20  sex               16281 non-null  uint8  \n",
      " 21  capital-gain      16281 non-null  float64\n",
      " 22  capital-loss      16281 non-null  float64\n",
      " 23  hours-per-week    16281 non-null  float64\n",
      " 24  target            16281 non-null  uint8  \n",
      "dtypes: float64(5), int64(18), uint8(2)\n",
      "memory usage: 2.9 MB\n"
     ]
    }
   ],
   "source": [
    "test_data.info()"
   ]
  },
  {
   "cell_type": "markdown",
   "id": "afc3e2c3",
   "metadata": {},
   "source": [
    "### Save clean data into csv file"
   ]
  },
  {
   "cell_type": "code",
   "execution_count": 23,
   "id": "70e62061",
   "metadata": {},
   "outputs": [],
   "source": [
    "train_data.to_csv('clean_train_data.csv')\n",
    "test_data.to_csv('clean_test_data.csv')"
   ]
  },
  {
   "cell_type": "markdown",
   "id": "4c722379",
   "metadata": {},
   "source": [
    "### Save clean data to mongodb and load it "
   ]
  },
  {
   "cell_type": "code",
   "execution_count": 32,
   "id": "fba19cfc",
   "metadata": {},
   "outputs": [],
   "source": [
    "#!python -m pip install pymongo"
   ]
  },
  {
   "cell_type": "code",
   "execution_count": 54,
   "id": "aeb381f5",
   "metadata": {},
   "outputs": [],
   "source": [
    "client = pymongo.MongoClient(\"mongodb+srv://<user>:<pass>@cluster0.m03oxa5.mongodb.net/?retryWrites=true&w=majority\")\n",
    "db = client.census_cleandata"
   ]
  },
  {
   "cell_type": "code",
   "execution_count": 63,
   "id": "4980c001",
   "metadata": {},
   "outputs": [],
   "source": [
    "COLLECTION_NAME = \"census_collection_train\"\n",
    "collection = db[COLLECTION_NAME]\n",
    "rec_train = collection.insert_many(train_data.to_dict('records'))"
   ]
  },
  {
   "cell_type": "code",
   "execution_count": 64,
   "id": "a81d93d4",
   "metadata": {},
   "outputs": [],
   "source": [
    "COLLECTION_NAME = \"census_collection_test\"\n",
    "collection = db[COLLECTION_NAME]\n",
    "rec_test = collection.insert_many(test_data.to_dict('records'))"
   ]
  },
  {
   "cell_type": "code",
   "execution_count": 67,
   "id": "62331513",
   "metadata": {},
   "outputs": [
    {
     "data": {
      "text/html": [
       "<div>\n",
       "<style scoped>\n",
       "    .dataframe tbody tr th:only-of-type {\n",
       "        vertical-align: middle;\n",
       "    }\n",
       "\n",
       "    .dataframe tbody tr th {\n",
       "        vertical-align: top;\n",
       "    }\n",
       "\n",
       "    .dataframe thead th {\n",
       "        text-align: right;\n",
       "    }\n",
       "</style>\n",
       "<table border=\"1\" class=\"dataframe\">\n",
       "  <thead>\n",
       "    <tr style=\"text-align: right;\">\n",
       "      <th></th>\n",
       "      <th>_id</th>\n",
       "      <th>workclass_1</th>\n",
       "      <th>workclass_2</th>\n",
       "      <th>workclass_3</th>\n",
       "      <th>workclass_4</th>\n",
       "      <th>marital-status_1</th>\n",
       "      <th>marital-status_2</th>\n",
       "      <th>marital-status_3</th>\n",
       "      <th>occupation_0</th>\n",
       "      <th>occupation_1</th>\n",
       "      <th>...</th>\n",
       "      <th>race_1</th>\n",
       "      <th>race_2</th>\n",
       "      <th>race_3</th>\n",
       "      <th>age</th>\n",
       "      <th>education-num</th>\n",
       "      <th>sex</th>\n",
       "      <th>capital-gain</th>\n",
       "      <th>capital-loss</th>\n",
       "      <th>hours-per-week</th>\n",
       "      <th>target</th>\n",
       "    </tr>\n",
       "  </thead>\n",
       "  <tbody>\n",
       "    <tr>\n",
       "      <th>0</th>\n",
       "      <td>63fcfb1d67c13b20a12107ed</td>\n",
       "      <td>0</td>\n",
       "      <td>0</td>\n",
       "      <td>1</td>\n",
       "      <td>1</td>\n",
       "      <td>0</td>\n",
       "      <td>0</td>\n",
       "      <td>1</td>\n",
       "      <td>0</td>\n",
       "      <td>1</td>\n",
       "      <td>...</td>\n",
       "      <td>0</td>\n",
       "      <td>1</td>\n",
       "      <td>0</td>\n",
       "      <td>0.131148</td>\n",
       "      <td>0.400000</td>\n",
       "      <td>1</td>\n",
       "      <td>0.000000</td>\n",
       "      <td>0.0</td>\n",
       "      <td>0.471154</td>\n",
       "      <td>0</td>\n",
       "    </tr>\n",
       "    <tr>\n",
       "      <th>1</th>\n",
       "      <td>63fcfb1d67c13b20a12107ee</td>\n",
       "      <td>0</td>\n",
       "      <td>0</td>\n",
       "      <td>1</td>\n",
       "      <td>1</td>\n",
       "      <td>0</td>\n",
       "      <td>1</td>\n",
       "      <td>0</td>\n",
       "      <td>0</td>\n",
       "      <td>1</td>\n",
       "      <td>...</td>\n",
       "      <td>0</td>\n",
       "      <td>0</td>\n",
       "      <td>1</td>\n",
       "      <td>0.344262</td>\n",
       "      <td>0.533333</td>\n",
       "      <td>1</td>\n",
       "      <td>0.000000</td>\n",
       "      <td>0.0</td>\n",
       "      <td>0.663462</td>\n",
       "      <td>0</td>\n",
       "    </tr>\n",
       "    <tr>\n",
       "      <th>2</th>\n",
       "      <td>63fcfb1d67c13b20a12107ef</td>\n",
       "      <td>0</td>\n",
       "      <td>1</td>\n",
       "      <td>0</td>\n",
       "      <td>1</td>\n",
       "      <td>0</td>\n",
       "      <td>1</td>\n",
       "      <td>0</td>\n",
       "      <td>0</td>\n",
       "      <td>1</td>\n",
       "      <td>...</td>\n",
       "      <td>0</td>\n",
       "      <td>0</td>\n",
       "      <td>1</td>\n",
       "      <td>0.180328</td>\n",
       "      <td>0.733333</td>\n",
       "      <td>1</td>\n",
       "      <td>0.000000</td>\n",
       "      <td>0.0</td>\n",
       "      <td>0.471154</td>\n",
       "      <td>1</td>\n",
       "    </tr>\n",
       "    <tr>\n",
       "      <th>3</th>\n",
       "      <td>63fcfb1d67c13b20a12107f0</td>\n",
       "      <td>0</td>\n",
       "      <td>0</td>\n",
       "      <td>1</td>\n",
       "      <td>1</td>\n",
       "      <td>0</td>\n",
       "      <td>1</td>\n",
       "      <td>0</td>\n",
       "      <td>0</td>\n",
       "      <td>1</td>\n",
       "      <td>...</td>\n",
       "      <td>0</td>\n",
       "      <td>1</td>\n",
       "      <td>0</td>\n",
       "      <td>0.442623</td>\n",
       "      <td>0.600000</td>\n",
       "      <td>1</td>\n",
       "      <td>0.076881</td>\n",
       "      <td>0.0</td>\n",
       "      <td>0.471154</td>\n",
       "      <td>1</td>\n",
       "    </tr>\n",
       "    <tr>\n",
       "      <th>4</th>\n",
       "      <td>63fcfb1d67c13b20a12107f1</td>\n",
       "      <td>0</td>\n",
       "      <td>1</td>\n",
       "      <td>1</td>\n",
       "      <td>0</td>\n",
       "      <td>0</td>\n",
       "      <td>0</td>\n",
       "      <td>1</td>\n",
       "      <td>0</td>\n",
       "      <td>1</td>\n",
       "      <td>...</td>\n",
       "      <td>0</td>\n",
       "      <td>0</td>\n",
       "      <td>1</td>\n",
       "      <td>0.016393</td>\n",
       "      <td>0.600000</td>\n",
       "      <td>0</td>\n",
       "      <td>0.000000</td>\n",
       "      <td>0.0</td>\n",
       "      <td>0.278846</td>\n",
       "      <td>0</td>\n",
       "    </tr>\n",
       "  </tbody>\n",
       "</table>\n",
       "<p>5 rows × 26 columns</p>\n",
       "</div>"
      ],
      "text/plain": [
       "                        _id  workclass_1  workclass_2  workclass_3  \\\n",
       "0  63fcfb1d67c13b20a12107ed            0            0            1   \n",
       "1  63fcfb1d67c13b20a12107ee            0            0            1   \n",
       "2  63fcfb1d67c13b20a12107ef            0            1            0   \n",
       "3  63fcfb1d67c13b20a12107f0            0            0            1   \n",
       "4  63fcfb1d67c13b20a12107f1            0            1            1   \n",
       "\n",
       "   workclass_4  marital-status_1  marital-status_2  marital-status_3  \\\n",
       "0            1                 0                 0                 1   \n",
       "1            1                 0                 1                 0   \n",
       "2            1                 0                 1                 0   \n",
       "3            1                 0                 1                 0   \n",
       "4            0                 0                 0                 1   \n",
       "\n",
       "   occupation_0  occupation_1  ...  race_1  race_2  race_3       age  \\\n",
       "0             0             1  ...       0       1       0  0.131148   \n",
       "1             0             1  ...       0       0       1  0.344262   \n",
       "2             0             1  ...       0       0       1  0.180328   \n",
       "3             0             1  ...       0       1       0  0.442623   \n",
       "4             0             1  ...       0       0       1  0.016393   \n",
       "\n",
       "   education-num  sex  capital-gain  capital-loss  hours-per-week  target  \n",
       "0       0.400000    1      0.000000           0.0        0.471154       0  \n",
       "1       0.533333    1      0.000000           0.0        0.663462       0  \n",
       "2       0.733333    1      0.000000           0.0        0.471154       1  \n",
       "3       0.600000    1      0.076881           0.0        0.471154       1  \n",
       "4       0.600000    0      0.000000           0.0        0.278846       0  \n",
       "\n",
       "[5 rows x 26 columns]"
      ]
     },
     "execution_count": 67,
     "metadata": {},
     "output_type": "execute_result"
    }
   ],
   "source": [
    "all_records = collection.find()\n",
    "fetch_df = pd.DataFrame.from_dict(all_records)\n",
    "fetch_df.head()"
   ]
  },
  {
   "cell_type": "code",
   "execution_count": null,
   "id": "e11ea7e7",
   "metadata": {},
   "outputs": [],
   "source": []
  }
 ],
 "metadata": {
  "kernelspec": {
   "display_name": "Python 3 (ipykernel)",
   "language": "python",
   "name": "python3"
  },
  "language_info": {
   "codemirror_mode": {
    "name": "ipython",
    "version": 3
   },
   "file_extension": ".py",
   "mimetype": "text/x-python",
   "name": "python",
   "nbconvert_exporter": "python",
   "pygments_lexer": "ipython3",
   "version": "3.8.13"
  }
 },
 "nbformat": 4,
 "nbformat_minor": 5
}
