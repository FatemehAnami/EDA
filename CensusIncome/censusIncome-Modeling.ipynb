{
 "cells": [
  {
   "cell_type": "code",
   "execution_count": 82,
   "id": "bc9bdd63",
   "metadata": {},
   "outputs": [],
   "source": [
    "import pandas as pd\n",
    "import numpy as np\n",
    "from sklearn.svm import SVC\n",
    "from sklearn.tree import DecisionTreeClassifier\n",
    "from sklearn.linear_model import LogisticRegression\n",
    "from imblearn.over_sampling import SMOTE\n",
    "from imblearn.pipeline import Pipeline\n",
    "from sklearn.metrics import accuracy_score, precision_score , recall_score , f1_score\n",
    "from sklearn.metrics import confusion_matrix, classification_report, roc_auc_score"
   ]
  },
  {
   "cell_type": "code",
   "execution_count": 4,
   "id": "53e5976d",
   "metadata": {},
   "outputs": [],
   "source": [
    "train = pd.read_csv('clean_train_data.csv')\n",
    "test = pd.read_csv('clean_test_data.csv')"
   ]
  },
  {
   "cell_type": "code",
   "execution_count": 46,
   "id": "a90c7b00",
   "metadata": {},
   "outputs": [
    {
     "data": {
      "text/plain": [
       "0    24720\n",
       "1     7841\n",
       "Name: target, dtype: int64"
      ]
     },
     "execution_count": 46,
     "metadata": {},
     "output_type": "execute_result"
    }
   ],
   "source": [
    "train['target'].value_counts()"
   ]
  },
  {
   "cell_type": "markdown",
   "id": "1cba0183",
   "metadata": {},
   "source": [
    "### SVM Model with whole data"
   ]
  },
  {
   "cell_type": "code",
   "execution_count": 7,
   "id": "869b31ca",
   "metadata": {},
   "outputs": [
    {
     "data": {
      "text/plain": [
       "((32561, 25), (16281, 25), (32561,), (16281,))"
      ]
     },
     "execution_count": 7,
     "metadata": {},
     "output_type": "execute_result"
    }
   ],
   "source": [
    "X_train = train.drop(['target'], axis = 1)\n",
    "y_train = train['target']\n",
    "X_test = test.drop(['target'], axis = 1)\n",
    "y_test = test['target']\n",
    "X_train.shape , X_test.shape , y_train.shape , y_test.shape"
   ]
  },
  {
   "cell_type": "code",
   "execution_count": 32,
   "id": "1010d656",
   "metadata": {},
   "outputs": [
    {
     "name": "stdout",
     "output_type": "stream",
     "text": [
      "Score of DC model is:  0.7591904425539756\n"
     ]
    }
   ],
   "source": [
    "svc_model = SVC()\n",
    "svc_model.fit(X_train , y_train)\n",
    "print('Score of SVM model is on whole data: ', svc_model.score(X_train , y_train))"
   ]
  },
  {
   "cell_type": "code",
   "execution_count": 34,
   "id": "bd0ee94a",
   "metadata": {},
   "outputs": [
    {
     "name": "stdout",
     "output_type": "stream",
     "text": [
      "[[12435     0]\n",
      " [ 3846     0]]\n",
      "Accuracy of the model is:  0.764\n",
      "Precision of the model is:  0.000\n",
      "Recall of the model is:     0.000\n",
      "F1-score of the model is:   0.000\n",
      "Classification Report: \n",
      "               precision    recall  f1-score   support\n",
      "\n",
      "           0       0.76      1.00      0.87     12435\n",
      "           1       0.00      0.00      0.00      3846\n",
      "\n",
      "    accuracy                           0.76     16281\n",
      "   macro avg       0.38      0.50      0.43     16281\n",
      "weighted avg       0.58      0.76      0.66     16281\n",
      "\n"
     ]
    },
    {
     "name": "stderr",
     "output_type": "stream",
     "text": [
      "C:\\Users\\Fatemeh\\.conda\\envs\\anubrain-env\\lib\\site-packages\\sklearn\\metrics\\_classification.py:1334: UndefinedMetricWarning: Precision is ill-defined and being set to 0.0 due to no predicted samples. Use `zero_division` parameter to control this behavior.\n",
      "  _warn_prf(average, modifier, msg_start, len(result))\n",
      "C:\\Users\\Fatemeh\\.conda\\envs\\anubrain-env\\lib\\site-packages\\sklearn\\metrics\\_classification.py:1334: UndefinedMetricWarning: Precision and F-score are ill-defined and being set to 0.0 in labels with no predicted samples. Use `zero_division` parameter to control this behavior.\n",
      "  _warn_prf(average, modifier, msg_start, len(result))\n",
      "C:\\Users\\Fatemeh\\.conda\\envs\\anubrain-env\\lib\\site-packages\\sklearn\\metrics\\_classification.py:1334: UndefinedMetricWarning: Precision and F-score are ill-defined and being set to 0.0 in labels with no predicted samples. Use `zero_division` parameter to control this behavior.\n",
      "  _warn_prf(average, modifier, msg_start, len(result))\n",
      "C:\\Users\\Fatemeh\\.conda\\envs\\anubrain-env\\lib\\site-packages\\sklearn\\metrics\\_classification.py:1334: UndefinedMetricWarning: Precision and F-score are ill-defined and being set to 0.0 in labels with no predicted samples. Use `zero_division` parameter to control this behavior.\n",
      "  _warn_prf(average, modifier, msg_start, len(result))\n"
     ]
    }
   ],
   "source": [
    "# predict with created model on test data and print the evaluation metrics\n",
    "svc_y_preds = svc_model.predict(X_test)\n",
    "print(confusion_matrix(y_test , svc_y_preds) )\n",
    "print(f'Accuracy of the model is: {accuracy_score(y_test ,svc_y_preds): 0.3f}')\n",
    "print(f'Precision of the model is: {precision_score(y_test , svc_y_preds): 0.3f}')\n",
    "print(f'Recall of the model is:    {recall_score(y_test ,svc_y_preds): 0.3f}')\n",
    "print(f'F1-score of the model is:  {f1_score(y_test , svc_y_preds): 0.3f}')\n",
    "print('Classification Report: \\n',classification_report(y_test ,svc_y_preds))"
   ]
  },
  {
   "cell_type": "markdown",
   "id": "104efe32",
   "metadata": {},
   "source": [
    "### SVM Model oversampling with SMOTE"
   ]
  },
  {
   "cell_type": "code",
   "execution_count": 73,
   "id": "ff79750d",
   "metadata": {},
   "outputs": [
    {
     "data": {
      "text/plain": [
       "0    24720\n",
       "1    24720\n",
       "Name: target, dtype: int64"
      ]
     },
     "execution_count": 73,
     "metadata": {},
     "output_type": "execute_result"
    }
   ],
   "source": [
    "X_train = train.drop(['target'], axis = 1)\n",
    "y_train = train['target']\n",
    "smote = SMOTE(random_state=1)\n",
    "X_train , y_train= smote.fit_resample(X_train , y_train)\n",
    "y_train.value_counts()"
   ]
  },
  {
   "cell_type": "code",
   "execution_count": 74,
   "id": "8aee7c1e",
   "metadata": {},
   "outputs": [
    {
     "name": "stdout",
     "output_type": "stream",
     "text": [
      "Score of DC model is:  0.5064724919093851\n"
     ]
    }
   ],
   "source": [
    "svc_model = SVC()\n",
    "svc_model.fit(X_train , y_train)\n",
    "print('Score of SVM model is with oversampling: ', svc_model.score(X_train , y_train))"
   ]
  },
  {
   "cell_type": "code",
   "execution_count": 75,
   "id": "1d1c94d3",
   "metadata": {},
   "outputs": [
    {
     "name": "stdout",
     "output_type": "stream",
     "text": [
      "[[12435     0]\n",
      " [ 3846     0]]\n",
      "Accuracy of the model is:  0.764\n",
      "Precision of the model is:  0.000\n",
      "Recall of the model is:     0.000\n",
      "F1-score of the model is:   0.000\n",
      "Classification Report: \n",
      "               precision    recall  f1-score   support\n",
      "\n",
      "           0       0.76      1.00      0.87     12435\n",
      "           1       0.00      0.00      0.00      3846\n",
      "\n",
      "    accuracy                           0.76     16281\n",
      "   macro avg       0.38      0.50      0.43     16281\n",
      "weighted avg       0.58      0.76      0.66     16281\n",
      "\n"
     ]
    },
    {
     "name": "stderr",
     "output_type": "stream",
     "text": [
      "C:\\Users\\Fatemeh\\.conda\\envs\\anubrain-env\\lib\\site-packages\\sklearn\\metrics\\_classification.py:1334: UndefinedMetricWarning: Precision is ill-defined and being set to 0.0 due to no predicted samples. Use `zero_division` parameter to control this behavior.\n",
      "  _warn_prf(average, modifier, msg_start, len(result))\n",
      "C:\\Users\\Fatemeh\\.conda\\envs\\anubrain-env\\lib\\site-packages\\sklearn\\metrics\\_classification.py:1334: UndefinedMetricWarning: Precision and F-score are ill-defined and being set to 0.0 in labels with no predicted samples. Use `zero_division` parameter to control this behavior.\n",
      "  _warn_prf(average, modifier, msg_start, len(result))\n",
      "C:\\Users\\Fatemeh\\.conda\\envs\\anubrain-env\\lib\\site-packages\\sklearn\\metrics\\_classification.py:1334: UndefinedMetricWarning: Precision and F-score are ill-defined and being set to 0.0 in labels with no predicted samples. Use `zero_division` parameter to control this behavior.\n",
      "  _warn_prf(average, modifier, msg_start, len(result))\n",
      "C:\\Users\\Fatemeh\\.conda\\envs\\anubrain-env\\lib\\site-packages\\sklearn\\metrics\\_classification.py:1334: UndefinedMetricWarning: Precision and F-score are ill-defined and being set to 0.0 in labels with no predicted samples. Use `zero_division` parameter to control this behavior.\n",
      "  _warn_prf(average, modifier, msg_start, len(result))\n"
     ]
    }
   ],
   "source": [
    "# predict with created model on test data and print the evaluation metrics\n",
    "svc_y_preds = svc_model.predict(X_test)\n",
    "print(confusion_matrix(y_test , svc_y_preds) )\n",
    "print(f'Accuracy of the model is: {accuracy_score(y_test ,svc_y_preds): 0.3f}')\n",
    "print(f'Precision of the model is: {precision_score(y_test , svc_y_preds): 0.3f}')\n",
    "print(f'Recall of the model is:    {recall_score(y_test ,svc_y_preds): 0.3f}')\n",
    "print(f'F1-score of the model is:  {f1_score(y_test , svc_y_preds): 0.3f}')\n",
    "print('Classification Report: \\n',classification_report(y_test ,svc_y_preds))"
   ]
  },
  {
   "cell_type": "markdown",
   "id": "0ff9c413",
   "metadata": {},
   "source": [
    "### SVM undersampling"
   ]
  },
  {
   "cell_type": "code",
   "execution_count": 42,
   "id": "08431a35",
   "metadata": {},
   "outputs": [
    {
     "data": {
      "text/plain": [
       "((15682, 25), (16281, 25), (15682,), (16281,))"
      ]
     },
     "execution_count": 42,
     "metadata": {},
     "output_type": "execute_result"
    }
   ],
   "source": [
    "train_c1 = train[train['target']==1]\n",
    "train_c0 = train[train['target']==0].sample(train_c1.shape[0])\n",
    "final_train = pd.concat([train_c1 , train_c0], axis = 0)\n",
    "\n",
    "X_train = final_train.drop(['target'], axis = 1)\n",
    "y_train = final_train['target']\n",
    "X_test = test.drop(['target'], axis = 1)\n",
    "y_test = test['target']\n",
    "X_train.shape , X_test.shape , y_train.shape , y_test.shape"
   ]
  },
  {
   "cell_type": "code",
   "execution_count": 44,
   "id": "47be0277",
   "metadata": {},
   "outputs": [
    {
     "name": "stdout",
     "output_type": "stream",
     "text": [
      "Score of DC model is:  0.5061854355311822\n"
     ]
    }
   ],
   "source": [
    "svc_model = SVC()\n",
    "svc_model.fit(X_train , y_train)\n",
    "print('Score of SVM modelwith undersampling is: ', svc_model.score(X_train , y_train))"
   ]
  },
  {
   "cell_type": "code",
   "execution_count": 45,
   "id": "13646917",
   "metadata": {},
   "outputs": [
    {
     "name": "stdout",
     "output_type": "stream",
     "text": [
      "[[12435     0]\n",
      " [ 3846     0]]\n",
      "Accuracy of the model is:  0.764\n",
      "Precision of the model is:  0.000\n",
      "Recall of the model is:     0.000\n",
      "F1-score of the model is:   0.000\n",
      "Classification Report: \n",
      "               precision    recall  f1-score   support\n",
      "\n",
      "           0       0.76      1.00      0.87     12435\n",
      "           1       0.00      0.00      0.00      3846\n",
      "\n",
      "    accuracy                           0.76     16281\n",
      "   macro avg       0.38      0.50      0.43     16281\n",
      "weighted avg       0.58      0.76      0.66     16281\n",
      "\n"
     ]
    },
    {
     "name": "stderr",
     "output_type": "stream",
     "text": [
      "C:\\Users\\Fatemeh\\.conda\\envs\\anubrain-env\\lib\\site-packages\\sklearn\\metrics\\_classification.py:1334: UndefinedMetricWarning: Precision is ill-defined and being set to 0.0 due to no predicted samples. Use `zero_division` parameter to control this behavior.\n",
      "  _warn_prf(average, modifier, msg_start, len(result))\n",
      "C:\\Users\\Fatemeh\\.conda\\envs\\anubrain-env\\lib\\site-packages\\sklearn\\metrics\\_classification.py:1334: UndefinedMetricWarning: Precision and F-score are ill-defined and being set to 0.0 in labels with no predicted samples. Use `zero_division` parameter to control this behavior.\n",
      "  _warn_prf(average, modifier, msg_start, len(result))\n",
      "C:\\Users\\Fatemeh\\.conda\\envs\\anubrain-env\\lib\\site-packages\\sklearn\\metrics\\_classification.py:1334: UndefinedMetricWarning: Precision and F-score are ill-defined and being set to 0.0 in labels with no predicted samples. Use `zero_division` parameter to control this behavior.\n",
      "  _warn_prf(average, modifier, msg_start, len(result))\n",
      "C:\\Users\\Fatemeh\\.conda\\envs\\anubrain-env\\lib\\site-packages\\sklearn\\metrics\\_classification.py:1334: UndefinedMetricWarning: Precision and F-score are ill-defined and being set to 0.0 in labels with no predicted samples. Use `zero_division` parameter to control this behavior.\n",
      "  _warn_prf(average, modifier, msg_start, len(result))\n"
     ]
    }
   ],
   "source": [
    "# predict with created model on test data and print the evaluation metrics\n",
    "svc_y_preds = svc_model.predict(X_test)\n",
    "print(confusion_matrix(y_test , svc_y_preds) )\n",
    "print(f'Accuracy of the model is: {accuracy_score(y_test ,svc_y_preds): 0.3f}')\n",
    "print(f'Precision of the model is: {precision_score(y_test , svc_y_preds): 0.3f}')\n",
    "print(f'Recall of the model is:    {recall_score(y_test ,svc_y_preds): 0.3f}')\n",
    "print(f'F1-score of the model is:  {f1_score(y_test , svc_y_preds): 0.3f}')\n",
    "print('Classification Report: \\n',classification_report(y_test ,svc_y_preds))"
   ]
  },
  {
   "cell_type": "markdown",
   "id": "342ea283",
   "metadata": {},
   "source": [
    "**The result shows SVM can not perform well in this data even after dwonsampling**"
   ]
  },
  {
   "cell_type": "markdown",
   "id": "f7f84c78",
   "metadata": {},
   "source": [
    "## Logistic Regression"
   ]
  },
  {
   "cell_type": "code",
   "execution_count": 47,
   "id": "82cc10ea",
   "metadata": {},
   "outputs": [
    {
     "data": {
      "text/plain": [
       "((32561, 25), (16281, 25), (32561,), (16281,))"
      ]
     },
     "execution_count": 47,
     "metadata": {},
     "output_type": "execute_result"
    }
   ],
   "source": [
    "X_train = train.drop(['target'], axis = 1)\n",
    "y_train = train['target']\n",
    "X_test = test.drop(['target'], axis = 1)\n",
    "y_test = test['target']\n",
    "X_train.shape , X_test.shape , y_train.shape , y_test.shape"
   ]
  },
  {
   "cell_type": "code",
   "execution_count": 48,
   "id": "028d64be",
   "metadata": {},
   "outputs": [
    {
     "data": {
      "text/plain": [
       "0.7640428733761249"
      ]
     },
     "execution_count": 48,
     "metadata": {},
     "output_type": "execute_result"
    }
   ],
   "source": [
    "lg_model = LogisticRegression()\n",
    "lg_model.fit(X_train , y_train)\n",
    "lg_model.score(X_train , y_train)"
   ]
  },
  {
   "cell_type": "code",
   "execution_count": 49,
   "id": "49e61935",
   "metadata": {},
   "outputs": [
    {
     "name": "stdout",
     "output_type": "stream",
     "text": [
      "[[12416    19]\n",
      " [ 3803    43]]\n",
      "Accuracy of the model is:  0.765\n",
      "Precision of the model is:  0.694\n",
      "Recall of the model is:     0.011\n",
      "F1-score of the model is:   0.022\n",
      "Classification Report: \n",
      "               precision    recall  f1-score   support\n",
      "\n",
      "           0       0.77      1.00      0.87     12435\n",
      "           1       0.69      0.01      0.02      3846\n",
      "\n",
      "    accuracy                           0.77     16281\n",
      "   macro avg       0.73      0.50      0.44     16281\n",
      "weighted avg       0.75      0.77      0.67     16281\n",
      "\n"
     ]
    }
   ],
   "source": [
    "# predict with created model on test data and print the evaluation metrics\n",
    "lg_y_preds = lg_model.predict(X_test)\n",
    "print(confusion_matrix(y_test , lg_y_preds) )\n",
    "print(f'Accuracy of the model is: {accuracy_score(y_test ,lg_y_preds): 0.3f}')\n",
    "print(f'Precision of the model is: {precision_score(y_test , lg_y_preds): 0.3f}')\n",
    "print(f'Recall of the model is:    {recall_score(y_test ,lg_y_preds): 0.3f}')\n",
    "print(f'F1-score of the model is:  {f1_score(y_test , lg_y_preds): 0.3f}')\n",
    "print('Classification Report: \\n',classification_report(y_test ,lg_y_preds))"
   ]
  },
  {
   "cell_type": "markdown",
   "id": "19987bd8",
   "metadata": {},
   "source": [
    "### LR with whole data: The model has bais toward majority class the recall metric is dwon**"
   ]
  },
  {
   "cell_type": "code",
   "execution_count": 50,
   "id": "10ee3bc3",
   "metadata": {},
   "outputs": [
    {
     "data": {
      "text/plain": [
       "((15682, 25), (16281, 25), (15682,), (16281,))"
      ]
     },
     "execution_count": 50,
     "metadata": {},
     "output_type": "execute_result"
    }
   ],
   "source": [
    "train_c1 = train[train['target']==1]\n",
    "train_c0 = train[train['target']==0].sample(train_c1.shape[0])\n",
    "final_train = pd.concat([train_c1 , train_c0], axis = 0)\n",
    "\n",
    "X_train = final_train.drop(['target'], axis = 1)\n",
    "y_train = final_train['target']\n",
    "X_test = test.drop(['target'], axis = 1)\n",
    "y_test = test['target']\n",
    "X_train.shape , X_test.shape , y_train.shape , y_test.shape"
   ]
  },
  {
   "cell_type": "code",
   "execution_count": 51,
   "id": "809781d9",
   "metadata": {},
   "outputs": [
    {
     "data": {
      "text/plain": [
       "0.7565999234791481"
      ]
     },
     "execution_count": 51,
     "metadata": {},
     "output_type": "execute_result"
    }
   ],
   "source": [
    "lg_model = LogisticRegression()\n",
    "lg_model.fit(X_train , y_train)\n",
    "lg_model.score(X_train , y_train)"
   ]
  },
  {
   "cell_type": "code",
   "execution_count": 52,
   "id": "04718922",
   "metadata": {},
   "outputs": [
    {
     "name": "stdout",
     "output_type": "stream",
     "text": [
      "[[8564 3871]\n",
      " [ 627 3219]]\n",
      "Accuracy of the model is:  0.724\n",
      "Precision of the model is:  0.454\n",
      "Recall of the model is:     0.837\n",
      "F1-score of the model is:   0.589\n",
      "Classification Report: \n",
      "               precision    recall  f1-score   support\n",
      "\n",
      "           0       0.93      0.69      0.79     12435\n",
      "           1       0.45      0.84      0.59      3846\n",
      "\n",
      "    accuracy                           0.72     16281\n",
      "   macro avg       0.69      0.76      0.69     16281\n",
      "weighted avg       0.82      0.72      0.74     16281\n",
      "\n"
     ]
    }
   ],
   "source": [
    "# predict with created model on test data and print the evaluation metrics\n",
    "lg_y_preds = lg_model.predict(X_test)\n",
    "print(confusion_matrix(y_test , lg_y_preds) )\n",
    "print(f'Accuracy of the model is: {accuracy_score(y_test ,lg_y_preds): 0.3f}')\n",
    "print(f'Precision of the model is: {precision_score(y_test , lg_y_preds): 0.3f}')\n",
    "print(f'Recall of the model is:    {recall_score(y_test ,lg_y_preds): 0.3f}')\n",
    "print(f'F1-score of the model is:  {f1_score(y_test , lg_y_preds): 0.3f}')\n",
    "print('Classification Report: \\n',classification_report(y_test ,lg_y_preds))"
   ]
  },
  {
   "cell_type": "markdown",
   "id": "c7c32454",
   "metadata": {},
   "source": [
    "### LR with undersampling: The model train better but the ccuracy is down and model can not generilze in a good way"
   ]
  },
  {
   "cell_type": "code",
   "execution_count": 56,
   "id": "889d2848",
   "metadata": {},
   "outputs": [
    {
     "data": {
      "text/plain": [
       "0    24720\n",
       "1    24720\n",
       "Name: target, dtype: int64"
      ]
     },
     "execution_count": 56,
     "metadata": {},
     "output_type": "execute_result"
    }
   ],
   "source": [
    "X_train = train.drop(['target'], axis = 1)\n",
    "y_train = train['target']\n",
    "smote = SMOTE(random_state=1)\n",
    "X_train , y_train= smote.fit_resample(X_train , y_train)\n",
    "y_train.value_counts()"
   ]
  },
  {
   "cell_type": "code",
   "execution_count": 59,
   "id": "2bb2962c",
   "metadata": {},
   "outputs": [
    {
     "data": {
      "text/plain": [
       "0.8499797734627832"
      ]
     },
     "execution_count": 59,
     "metadata": {},
     "output_type": "execute_result"
    }
   ],
   "source": [
    "lg_model = LogisticRegression()\n",
    "lg_model.fit(X_train , y_train)\n",
    "lg_model.score(X_train , y_train)"
   ]
  },
  {
   "cell_type": "code",
   "execution_count": 58,
   "id": "cd000734",
   "metadata": {},
   "outputs": [
    {
     "name": "stdout",
     "output_type": "stream",
     "text": [
      "[[10690  1745]\n",
      " [ 1448  2398]]\n",
      "Accuracy of the model is:  0.804\n",
      "Precision of the model is:  0.579\n",
      "Recall of the model is:     0.624\n",
      "F1-score of the model is:   0.600\n",
      "Classification Report: \n",
      "               precision    recall  f1-score   support\n",
      "\n",
      "           0       0.88      0.86      0.87     12435\n",
      "           1       0.58      0.62      0.60      3846\n",
      "\n",
      "    accuracy                           0.80     16281\n",
      "   macro avg       0.73      0.74      0.74     16281\n",
      "weighted avg       0.81      0.80      0.81     16281\n",
      "\n"
     ]
    }
   ],
   "source": [
    "# predict with created model on test data and print the evaluation metrics\n",
    "lg_y_preds = lg_model.predict(X_test)\n",
    "print(confusion_matrix(y_test , lg_y_preds) )\n",
    "print(f'Accuracy of the model is: {accuracy_score(y_test ,lg_y_preds): 0.3f}')\n",
    "print(f'Precision of the model is: {precision_score(y_test , lg_y_preds): 0.3f}')\n",
    "print(f'Recall of the model is:    {recall_score(y_test ,lg_y_preds): 0.3f}')\n",
    "print(f'F1-score of the model is:  {f1_score(y_test , lg_y_preds): 0.3f}')\n",
    "print('Classification Report: \\n',classification_report(y_test ,lg_y_preds))"
   ]
  },
  {
   "cell_type": "markdown",
   "id": "bd9d1705",
   "metadata": {},
   "source": [
    "### LR Oversampling with SMOTE: The model train better than those previouse models and oversamplig help model to train in a better way and get higher accuracy "
   ]
  },
  {
   "cell_type": "markdown",
   "id": "b48bb328",
   "metadata": {},
   "source": [
    "## Decition Tree\n",
    "\n",
    "### Decision Tree is not so much sensitive toward imbalanced data, let check the result"
   ]
  },
  {
   "cell_type": "code",
   "execution_count": 78,
   "id": "4fdb488a",
   "metadata": {},
   "outputs": [
    {
     "data": {
      "text/plain": [
       "0    24720\n",
       "1     7841\n",
       "Name: target, dtype: int64"
      ]
     },
     "execution_count": 78,
     "metadata": {},
     "output_type": "execute_result"
    }
   ],
   "source": [
    "X_train = train.drop(['target'], axis = 1)\n",
    "y_train = train['target']\n",
    "y_train.value_counts()"
   ]
  },
  {
   "cell_type": "code",
   "execution_count": 79,
   "id": "ce374c6a",
   "metadata": {},
   "outputs": [
    {
     "name": "stdout",
     "output_type": "stream",
     "text": [
      "Score of DC model is:  1.0\n"
     ]
    }
   ],
   "source": [
    "dc_model = DecisionTreeClassifier()\n",
    "dc_model.fit(X_train , y_train)\n",
    "print('Score of DC model is: ', dc_model.score(X_train , y_train))"
   ]
  },
  {
   "cell_type": "code",
   "execution_count": 80,
   "id": "5fff8e1b",
   "metadata": {},
   "outputs": [
    {
     "name": "stdout",
     "output_type": "stream",
     "text": [
      "[[10823  1612]\n",
      " [ 1528  2318]]\n",
      "Accuracy of the model is:  0.807\n",
      "Precision of the model is:  0.590\n",
      "Recall of the model is:     0.603\n",
      "F1-score of the model is:   0.596\n",
      "Classification Report: \n",
      "               precision    recall  f1-score   support\n",
      "\n",
      "           0       0.88      0.87      0.87     12435\n",
      "           1       0.59      0.60      0.60      3846\n",
      "\n",
      "    accuracy                           0.81     16281\n",
      "   macro avg       0.73      0.74      0.73     16281\n",
      "weighted avg       0.81      0.81      0.81     16281\n",
      "\n"
     ]
    }
   ],
   "source": [
    "# predict with created model on test data and print the evaluation metrics\n",
    "dc_y_pred = dc_model.predict(X_test)\n",
    "print(confusion_matrix(y_test , dc_y_pred) )\n",
    "print(f'Accuracy of the model is: {accuracy_score(y_test ,dc_y_pred): 0.3f}')\n",
    "print(f'Precision of the model is: {precision_score(y_test , dc_y_pred): 0.3f}')\n",
    "print(f'Recall of the model is:    {recall_score(y_test ,dc_y_pred): 0.3f}')\n",
    "print(f'F1-score of the model is:  {f1_score(y_test , dc_y_pred): 0.3f}')\n",
    "print('Classification Report: \\n',classification_report(y_test ,dc_y_pred))"
   ]
  },
  {
   "cell_type": "markdown",
   "id": "1715d4f6",
   "metadata": {},
   "source": [
    "### Decision Tree: is it clear this model can perform well on whole data and the result is similar to the LR with over sampling "
   ]
  },
  {
   "cell_type": "markdown",
   "id": "ff14d85d",
   "metadata": {},
   "source": [
    "## Hyperparameter tunning"
   ]
  },
  {
   "cell_type": "code",
   "execution_count": 87,
   "id": "db14c00f",
   "metadata": {},
   "outputs": [
    {
     "name": "stdout",
     "output_type": "stream",
     "text": [
      "Fitting 5 folds for each of 300 candidates, totalling 1500 fits\n",
      "\n",
      "Beat parameters are:  {'criterion': 'gini', 'max_depth': 10, 'min_samples_leaf': 5, 'min_samples_split': 20}\n",
      "[[11949   486]\n",
      " [ 1842  2004]] \n",
      "\n",
      "Accuracy of the model is:  0.857\n",
      "Precision of the model is:  0.805\n",
      "Recall of the model is:     0.521\n",
      "F1-score of the model is:   0.633\n",
      "Classification Report: \n",
      "               precision    recall  f1-score   support\n",
      "\n",
      "           0       0.87      0.96      0.91     12435\n",
      "           1       0.80      0.52      0.63      3846\n",
      "\n",
      "    accuracy                           0.86     16281\n",
      "   macro avg       0.84      0.74      0.77     16281\n",
      "weighted avg       0.85      0.86      0.85     16281\n",
      "\n"
     ]
    }
   ],
   "source": [
    "from sklearn.model_selection import GridSearchCV\n",
    "\n",
    "params = {'max_depth':[3,5,7,10,15],\n",
    "          'min_samples_leaf':[3,5,10,15,20],\n",
    "          'min_samples_split':[8,10,12,18,20,16],\n",
    "          'criterion':['gini','entropy']}\n",
    "\n",
    "dc_model = DecisionTreeClassifier()\n",
    "grid_model = GridSearchCV(estimator=dc_model,param_grid=params,cv=5,n_jobs=-1, verbose=True, scoring='accuracy')\n",
    "\n",
    "# fitting the model for grid search \n",
    "grid_model.fit(X_train, y_train) \n",
    "\n",
    "# best parameter\n",
    "print('\\nBeat parameters are: ' , grid_model.best_params_) \n",
    "\n",
    "y_preds = grid_model.predict(X_test)\n",
    "print(confusion_matrix(y_test , y_preds),'\\n' )\n",
    "print(f'Accuracy of the model is: {accuracy_score(y_test ,y_preds): 0.3f}')\n",
    "print(f'Precision of the model is: {precision_score(y_test ,y_preds): 0.3f}')\n",
    "print(f'Recall of the model is:    {recall_score(y_test ,y_preds): 0.3f}')\n",
    "print(f'F1-score of the model is:  {f1_score(y_test , y_preds): 0.3f}')\n",
    "print('Classification Report: \\n',classification_report(y_test ,y_preds))"
   ]
  },
  {
   "cell_type": "code",
   "execution_count": 88,
   "id": "392bb7de",
   "metadata": {},
   "outputs": [
    {
     "data": {
      "image/png": "[encoded data removed]",
      "text/plain": [
       "<Figure size 640x480 with 1 Axes>"
      ]
     },
     "metadata": {},
     "output_type": "display_data"
    }
   ],
   "source": [
    "import matplotlib.pyplot as plt\n",
    "from sklearn.metrics import RocCurveDisplay\n",
    "\n",
    "dc_disp = RocCurveDisplay.from_estimator(grid_model, X_test, y_test)\n",
    "plt.plot([0, 1], ls=\"--\")\n",
    "plt.ylabel('True Positive Rate')\n",
    "plt.xlabel('False Positive Rate')\n",
    "plt.show()"
   ]
  },
  {
   "cell_type": "code",
   "execution_count": null,
   "id": "897d4462",
   "metadata": {},
   "outputs": [],
   "source": []
  }
 ],
 "metadata": {
  "kernelspec": {
   "display_name": "Python 3 (ipykernel)",
   "language": "python",
   "name": "python3"
  },
  "language_info": {
   "codemirror_mode": {
    "name": "ipython",
    "version": 3
   },
   "file_extension": ".py",
   "mimetype": "text/x-python",
   "name": "python",
   "nbconvert_exporter": "python",
   "pygments_lexer": "ipython3",
   "version": "3.8.13"
  }
 },
 "nbformat": 4,
 "nbformat_minor": 5
}
